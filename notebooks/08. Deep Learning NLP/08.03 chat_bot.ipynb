{
 "cells": [
  {
   "cell_type": "markdown",
   "metadata": {},
   "source": [
    "# Chatbot!\n",
    "\n",
    "🎥 [Video](https://www.udemy.com/course/nlp-natural-language-processing-with-python/learn/lecture/13258226#overview)"
   ]
  },
  {
   "cell_type": "code",
   "execution_count": null,
   "metadata": {},
   "outputs": [],
   "source": []
  }
 ],
 "metadata": {
  "language_info": {
   "name": "python"
  },
  "orig_nbformat": 4
 },
 "nbformat": 4,
 "nbformat_minor": 2
}
