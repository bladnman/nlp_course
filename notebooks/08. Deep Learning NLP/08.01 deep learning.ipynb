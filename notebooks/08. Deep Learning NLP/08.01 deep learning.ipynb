{
 "cells": [
  {
   "cell_type": "markdown",
   "metadata": {},
   "source": [
    "# Deep Learning : Keras\n",
    "\n",
    "🎥 [08. Deep Learning Course Video](https://www.udemy.com/course/nlp-natural-language-processing-with-python/learn/lecture/12972006#overview)"
   ]
  },
  {
   "cell_type": "code",
   "execution_count": 1,
   "metadata": {},
   "outputs": [],
   "source": [
    "import pandas as pd\n",
    "import numpy as np\n",
    "from sklearn.datasets import load_iris"
   ]
  },
  {
   "cell_type": "code",
   "execution_count": 2,
   "metadata": {},
   "outputs": [
    {
     "data": {
      "text/plain": [
       "sklearn.utils.Bunch"
      ]
     },
     "execution_count": 2,
     "metadata": {},
     "output_type": "execute_result"
    }
   ],
   "source": [
    "iris = load_iris()\n",
    "type(iris)"
   ]
  },
  {
   "cell_type": "code",
   "execution_count": 3,
   "metadata": {},
   "outputs": [
    {
     "name": "stdout",
     "output_type": "stream",
     "text": [
      ".. _iris_dataset:\n",
      "\n",
      "Iris plants dataset\n",
      "--------------------\n",
      "\n",
      "**Data Set Characteristics:**\n",
      "\n",
      "    :Number of Instances: 150 (50 in each of three classes)\n",
      "    :Number of Attributes: 4 numeric, predictive attributes and the class\n",
      "    :Attribute Information:\n",
      "        - sepal length in cm\n",
      "        - sepal width in cm\n",
      "        - petal length in cm\n",
      "        - petal width in cm\n",
      "        - class:\n",
      "                - Iris-Setosa\n",
      "                - Iris-Versicolour\n",
      "                - Iris-Virginica\n",
      "                \n",
      "    :Summary Statistics:\n",
      "\n",
      "    ============== ==== ==== ======= ===== ====================\n",
      "                    Min  Max   Mean    SD   Class Correlation\n",
      "    ============== ==== ==== ======= ===== ====================\n",
      "    sepal length:   4.3  7.9   5.84   0.83    0.7826\n",
      "    sepal width:    2.0  4.4   3.05   0.43   -0.4194\n",
      "    petal length:   1.0  6.9   3.76   1.76    0.9490  (high!)\n",
      "    petal width:    0.1  2.5   1.20   0.76    0.9565  (high!)\n",
      "    ============== ==== ==== ======= ===== ====================\n",
      "\n",
      "    :Missing Attribute Values: None\n",
      "    :Class Distribution: 33.3% for each of 3 classes.\n",
      "    :Creator: R.A. Fisher\n",
      "    :Donor: Michael Marshall (MARSHALL%PLU@io.arc.nasa.gov)\n",
      "    :Date: July, 1988\n",
      "\n",
      "The famous Iris database, first used by Sir R.A. Fisher. The dataset is taken\n",
      "from Fisher's paper. Note that it's the same as in R, but not as in the UCI\n",
      "Machine Learning Repository, which has two wrong data points.\n",
      "\n",
      "This is perhaps the best known database to be found in the\n",
      "pattern recognition literature.  Fisher's paper is a classic in the field and\n",
      "is referenced frequently to this day.  (See Duda & Hart, for example.)  The\n",
      "data set contains 3 classes of 50 instances each, where each class refers to a\n",
      "type of iris plant.  One class is linearly separable from the other 2; the\n",
      "latter are NOT linearly separable from each other.\n",
      "\n",
      ".. topic:: References\n",
      "\n",
      "   - Fisher, R.A. \"The use of multiple measurements in taxonomic problems\"\n",
      "     Annual Eugenics, 7, Part II, 179-188 (1936); also in \"Contributions to\n",
      "     Mathematical Statistics\" (John Wiley, NY, 1950).\n",
      "   - Duda, R.O., & Hart, P.E. (1973) Pattern Classification and Scene Analysis.\n",
      "     (Q327.D83) John Wiley & Sons.  ISBN 0-471-22361-1.  See page 218.\n",
      "   - Dasarathy, B.V. (1980) \"Nosing Around the Neighborhood: A New System\n",
      "     Structure and Classification Rule for Recognition in Partially Exposed\n",
      "     Environments\".  IEEE Transactions on Pattern Analysis and Machine\n",
      "     Intelligence, Vol. PAMI-2, No. 1, 67-71.\n",
      "   - Gates, G.W. (1972) \"The Reduced Nearest Neighbor Rule\".  IEEE Transactions\n",
      "     on Information Theory, May 1972, 431-433.\n",
      "   - See also: 1988 MLC Proceedings, 54-64.  Cheeseman et al\"s AUTOCLASS II\n",
      "     conceptual clustering system finds 3 classes in the data.\n",
      "   - Many, many more ...\n"
     ]
    }
   ],
   "source": [
    "print(iris.DESCR)"
   ]
  },
  {
   "cell_type": "code",
   "execution_count": 4,
   "metadata": {},
   "outputs": [],
   "source": [
    "X = iris.data\n",
    "# X"
   ]
  },
  {
   "cell_type": "code",
   "execution_count": 5,
   "metadata": {},
   "outputs": [
    {
     "data": {
      "text/plain": [
       "array([0, 0, 0, 0, 0, 0, 0, 0, 0, 0, 0, 0, 0, 0, 0, 0, 0, 0, 0, 0, 0, 0,\n",
       "       0, 0, 0, 0, 0, 0, 0, 0, 0, 0, 0, 0, 0, 0, 0, 0, 0, 0, 0, 0, 0, 0,\n",
       "       0, 0, 0, 0, 0, 0, 1, 1, 1, 1, 1, 1, 1, 1, 1, 1, 1, 1, 1, 1, 1, 1,\n",
       "       1, 1, 1, 1, 1, 1, 1, 1, 1, 1, 1, 1, 1, 1, 1, 1, 1, 1, 1, 1, 1, 1,\n",
       "       1, 1, 1, 1, 1, 1, 1, 1, 1, 1, 1, 1, 2, 2, 2, 2, 2, 2, 2, 2, 2, 2,\n",
       "       2, 2, 2, 2, 2, 2, 2, 2, 2, 2, 2, 2, 2, 2, 2, 2, 2, 2, 2, 2, 2, 2,\n",
       "       2, 2, 2, 2, 2, 2, 2, 2, 2, 2, 2, 2, 2, 2, 2, 2, 2, 2])"
      ]
     },
     "execution_count": 5,
     "metadata": {},
     "output_type": "execute_result"
    }
   ],
   "source": [
    "y = iris.target\n",
    "y"
   ]
  },
  {
   "cell_type": "code",
   "execution_count": 6,
   "metadata": {},
   "outputs": [],
   "source": [
    "# class 0 -> [1,0,0]\n",
    "# class 1 -> [0,1,0]\n",
    "# class 2 -> [0,0,1]"
   ]
  },
  {
   "cell_type": "code",
   "execution_count": 7,
   "metadata": {},
   "outputs": [
    {
     "name": "stderr",
     "output_type": "stream",
     "text": [
      "Using TensorFlow backend.\n"
     ]
    }
   ],
   "source": [
    "from keras.utils import to_categorical\n",
    "y = to_categorical(y)\n",
    "# y"
   ]
  },
  {
   "cell_type": "code",
   "execution_count": 8,
   "metadata": {},
   "outputs": [],
   "source": [
    "from sklearn.model_selection import train_test_split"
   ]
  },
  {
   "cell_type": "code",
   "execution_count": 9,
   "metadata": {},
   "outputs": [],
   "source": [
    "X_train, X_test, y_train, y_test = train_test_split(X, y, test_size=0.33, random_state=42)"
   ]
  },
  {
   "cell_type": "code",
   "execution_count": 10,
   "metadata": {},
   "outputs": [],
   "source": [
    "from sklearn.preprocessing import MinMaxScaler"
   ]
  },
  {
   "cell_type": "code",
   "execution_count": 11,
   "metadata": {},
   "outputs": [
    {
     "data": {
      "text/plain": [
       "array([0.25, 0.5 , 0.75, 1.  ])"
      ]
     },
     "execution_count": 11,
     "metadata": {},
     "output_type": "execute_result"
    }
   ],
   "source": [
    "# min max scaling simply scales the data to be between 0 and 1\n",
    "# it does this by dividing the data by the max value\n",
    "# example\n",
    "np.array([5,10,15,20]) / 20"
   ]
  },
  {
   "cell_type": "code",
   "execution_count": 12,
   "metadata": {},
   "outputs": [],
   "source": [
    "scaler_object = MinMaxScaler()\n",
    "scaler_object.fit(X_train)\n",
    "scaled_X_train = scaler_object.transform(X_train)\n",
    "scaled_X_test = scaler_object.transform(X_test)\n",
    "# all between 0 and 1 now\n",
    "# scaled_X_train"
   ]
  },
  {
   "cell_type": "code",
   "execution_count": 13,
   "metadata": {},
   "outputs": [],
   "source": [
    "from keras.models import Sequential\n",
    "from keras.layers import Dense"
   ]
  },
  {
   "cell_type": "code",
   "execution_count": 14,
   "metadata": {},
   "outputs": [],
   "source": [
    "model = Sequential()\n",
    "model.add(Dense(units=8, activation='relu', input_dim=4))\n",
    "model.add(Dense(units=8, activation='relu', input_dim=4))\n",
    "model.add(Dense(units=3, activation='softmax'))\n",
    "model.compile(loss='categorical_crossentropy', optimizer='adam', metrics=['accuracy'])"
   ]
  },
  {
   "cell_type": "code",
   "execution_count": 15,
   "metadata": {},
   "outputs": [
    {
     "name": "stdout",
     "output_type": "stream",
     "text": [
      "_________________________________________________________________\n",
      "Layer (type)                 Output Shape              Param #   \n",
      "=================================================================\n",
      "dense_1 (Dense)              (None, 8)                 40        \n",
      "_________________________________________________________________\n",
      "dense_2 (Dense)              (None, 8)                 72        \n",
      "_________________________________________________________________\n",
      "dense_3 (Dense)              (None, 3)                 27        \n",
      "=================================================================\n",
      "Total params: 139\n",
      "Trainable params: 139\n",
      "Non-trainable params: 0\n",
      "_________________________________________________________________\n"
     ]
    }
   ],
   "source": [
    "model.summary()"
   ]
  },
  {
   "cell_type": "code",
   "execution_count": 16,
   "metadata": {},
   "outputs": [
    {
     "name": "stdout",
     "output_type": "stream",
     "text": [
      "Epoch 1/150\n",
      " - 0s - loss: 1.0916 - acc: 0.3500\n",
      "Epoch 2/150\n",
      " - 0s - loss: 1.0810 - acc: 0.4000\n",
      "Epoch 3/150\n",
      " - 0s - loss: 1.0710 - acc: 0.4600\n",
      "Epoch 4/150\n",
      " - 0s - loss: 1.0608 - acc: 0.5500\n",
      "Epoch 5/150\n",
      " - 0s - loss: 1.0500 - acc: 0.6200\n",
      "Epoch 6/150\n",
      " - 0s - loss: 1.0392 - acc: 0.6300\n",
      "Epoch 7/150\n",
      " - 0s - loss: 1.0276 - acc: 0.6300\n",
      "Epoch 8/150\n",
      " - 0s - loss: 1.0154 - acc: 0.6600\n",
      "Epoch 9/150\n",
      " - 0s - loss: 1.0022 - acc: 0.6600\n",
      "Epoch 10/150\n",
      " - 0s - loss: 0.9881 - acc: 0.6600\n",
      "Epoch 11/150\n",
      " - 0s - loss: 0.9725 - acc: 0.6600\n",
      "Epoch 12/150\n",
      " - 0s - loss: 0.9570 - acc: 0.6600\n",
      "Epoch 13/150\n",
      " - 0s - loss: 0.9391 - acc: 0.6600\n",
      "Epoch 14/150\n",
      " - 0s - loss: 0.9213 - acc: 0.6500\n",
      "Epoch 15/150\n",
      " - 0s - loss: 0.9028 - acc: 0.6700\n",
      "Epoch 16/150\n",
      " - 0s - loss: 0.8836 - acc: 0.6700\n",
      "Epoch 17/150\n",
      " - 0s - loss: 0.8644 - acc: 0.6700\n",
      "Epoch 18/150\n",
      " - 0s - loss: 0.8458 - acc: 0.6800\n",
      "Epoch 19/150\n",
      " - 0s - loss: 0.8255 - acc: 0.6400\n",
      "Epoch 20/150\n",
      " - 0s - loss: 0.8069 - acc: 0.6900\n",
      "Epoch 21/150\n",
      " - 0s - loss: 0.7891 - acc: 0.6500\n",
      "Epoch 22/150\n",
      " - 0s - loss: 0.7711 - acc: 0.6400\n",
      "Epoch 23/150\n",
      " - 0s - loss: 0.7538 - acc: 0.6500\n",
      "Epoch 24/150\n",
      " - 0s - loss: 0.7371 - acc: 0.6500\n",
      "Epoch 25/150\n",
      " - 0s - loss: 0.7206 - acc: 0.6500\n",
      "Epoch 26/150\n",
      " - 0s - loss: 0.7050 - acc: 0.6500\n",
      "Epoch 27/150\n",
      " - 0s - loss: 0.6893 - acc: 0.6500\n",
      "Epoch 28/150\n",
      " - 0s - loss: 0.6740 - acc: 0.6500\n",
      "Epoch 29/150\n",
      " - 0s - loss: 0.6597 - acc: 0.6500\n",
      "Epoch 30/150\n",
      " - 0s - loss: 0.6459 - acc: 0.6500\n",
      "Epoch 31/150\n",
      " - 0s - loss: 0.6333 - acc: 0.6500\n",
      "Epoch 32/150\n",
      " - 0s - loss: 0.6209 - acc: 0.6500\n",
      "Epoch 33/150\n",
      " - 0s - loss: 0.6089 - acc: 0.6500\n",
      "Epoch 34/150\n",
      " - 0s - loss: 0.5977 - acc: 0.6500\n",
      "Epoch 35/150\n",
      " - 0s - loss: 0.5877 - acc: 0.6500\n",
      "Epoch 36/150\n",
      " - 0s - loss: 0.5773 - acc: 0.6500\n",
      "Epoch 37/150\n",
      " - 0s - loss: 0.5672 - acc: 0.6500\n",
      "Epoch 38/150\n",
      " - 0s - loss: 0.5579 - acc: 0.6500\n",
      "Epoch 39/150\n",
      " - 0s - loss: 0.5492 - acc: 0.6500\n",
      "Epoch 40/150\n",
      " - 0s - loss: 0.5409 - acc: 0.6500\n",
      "Epoch 41/150\n",
      " - 0s - loss: 0.5332 - acc: 0.6500\n",
      "Epoch 42/150\n",
      " - 0s - loss: 0.5256 - acc: 0.6500\n",
      "Epoch 43/150\n",
      " - 0s - loss: 0.5182 - acc: 0.6800\n",
      "Epoch 44/150\n",
      " - 0s - loss: 0.5112 - acc: 0.6800\n",
      "Epoch 45/150\n",
      " - 0s - loss: 0.5043 - acc: 0.6800\n",
      "Epoch 46/150\n",
      " - 0s - loss: 0.4974 - acc: 0.6800\n",
      "Epoch 47/150\n",
      " - 0s - loss: 0.4911 - acc: 0.6800\n",
      "Epoch 48/150\n",
      " - 0s - loss: 0.4851 - acc: 0.7200\n",
      "Epoch 49/150\n",
      " - 0s - loss: 0.4792 - acc: 0.7300\n",
      "Epoch 50/150\n",
      " - 0s - loss: 0.4729 - acc: 0.7500\n",
      "Epoch 51/150\n",
      " - 0s - loss: 0.4666 - acc: 0.7800\n",
      "Epoch 52/150\n",
      " - 0s - loss: 0.4610 - acc: 0.8200\n",
      "Epoch 53/150\n",
      " - 0s - loss: 0.4555 - acc: 0.8500\n",
      "Epoch 54/150\n",
      " - 0s - loss: 0.4501 - acc: 0.8600\n",
      "Epoch 55/150\n",
      " - 0s - loss: 0.4445 - acc: 0.8600\n",
      "Epoch 56/150\n",
      " - 0s - loss: 0.4392 - acc: 0.8800\n",
      "Epoch 57/150\n",
      " - 0s - loss: 0.4350 - acc: 0.8800\n",
      "Epoch 58/150\n",
      " - 0s - loss: 0.4282 - acc: 0.8700\n",
      "Epoch 59/150\n",
      " - 0s - loss: 0.4230 - acc: 0.8900\n",
      "Epoch 60/150\n",
      " - 0s - loss: 0.4196 - acc: 0.9300\n",
      "Epoch 61/150\n",
      " - 0s - loss: 0.4126 - acc: 0.9400\n",
      "Epoch 62/150\n",
      " - 0s - loss: 0.4071 - acc: 0.9400\n",
      "Epoch 63/150\n",
      " - 0s - loss: 0.4040 - acc: 0.9100\n",
      "Epoch 64/150\n",
      " - 0s - loss: 0.3969 - acc: 0.9400\n",
      "Epoch 65/150\n",
      " - 0s - loss: 0.3929 - acc: 0.9300\n",
      "Epoch 66/150\n",
      " - 0s - loss: 0.3877 - acc: 0.9400\n",
      "Epoch 67/150\n",
      " - 0s - loss: 0.3821 - acc: 0.9400\n",
      "Epoch 68/150\n",
      " - 0s - loss: 0.3774 - acc: 0.9400\n",
      "Epoch 69/150\n",
      " - 0s - loss: 0.3721 - acc: 0.9400\n",
      "Epoch 70/150\n",
      " - 0s - loss: 0.3668 - acc: 0.9400\n",
      "Epoch 71/150\n",
      " - 0s - loss: 0.3617 - acc: 0.9400\n",
      "Epoch 72/150\n",
      " - 0s - loss: 0.3568 - acc: 0.9400\n",
      "Epoch 73/150\n",
      " - 0s - loss: 0.3515 - acc: 0.9400\n",
      "Epoch 74/150\n",
      " - 0s - loss: 0.3455 - acc: 0.9400\n",
      "Epoch 75/150\n",
      " - 0s - loss: 0.3404 - acc: 0.9400\n",
      "Epoch 76/150\n",
      " - 0s - loss: 0.3352 - acc: 0.9400\n",
      "Epoch 77/150\n",
      " - 0s - loss: 0.3293 - acc: 0.9400\n",
      "Epoch 78/150\n",
      " - 0s - loss: 0.3240 - acc: 0.9400\n",
      "Epoch 79/150\n",
      " - 0s - loss: 0.3188 - acc: 0.9500\n",
      "Epoch 80/150\n",
      " - 0s - loss: 0.3125 - acc: 0.9400\n",
      "Epoch 81/150\n",
      " - 0s - loss: 0.3073 - acc: 0.9400\n",
      "Epoch 82/150\n",
      " - 0s - loss: 0.3011 - acc: 0.9500\n",
      "Epoch 83/150\n",
      " - 0s - loss: 0.2959 - acc: 0.9400\n",
      "Epoch 84/150\n",
      " - 0s - loss: 0.2914 - acc: 0.9400\n",
      "Epoch 85/150\n",
      " - 0s - loss: 0.2854 - acc: 0.9500\n",
      "Epoch 86/150\n",
      " - 0s - loss: 0.2805 - acc: 0.9500\n",
      "Epoch 87/150\n",
      " - 0s - loss: 0.2767 - acc: 0.9500\n",
      "Epoch 88/150\n",
      " - 0s - loss: 0.2702 - acc: 0.9500\n",
      "Epoch 89/150\n",
      " - 0s - loss: 0.2662 - acc: 0.9500\n",
      "Epoch 90/150\n",
      " - 0s - loss: 0.2612 - acc: 0.9400\n",
      "Epoch 91/150\n",
      " - 0s - loss: 0.2576 - acc: 0.9500\n",
      "Epoch 92/150\n",
      " - 0s - loss: 0.2538 - acc: 0.9400\n",
      "Epoch 93/150\n",
      " - 0s - loss: 0.2481 - acc: 0.9400\n",
      "Epoch 94/150\n",
      " - 0s - loss: 0.2434 - acc: 0.9400\n",
      "Epoch 95/150\n",
      " - 0s - loss: 0.2395 - acc: 0.9400\n",
      "Epoch 96/150\n",
      " - 0s - loss: 0.2355 - acc: 0.9500\n",
      "Epoch 97/150\n",
      " - 0s - loss: 0.2312 - acc: 0.9500\n",
      "Epoch 98/150\n",
      " - 0s - loss: 0.2293 - acc: 0.9500\n",
      "Epoch 99/150\n",
      " - 0s - loss: 0.2259 - acc: 0.9500\n",
      "Epoch 100/150\n",
      " - 0s - loss: 0.2201 - acc: 0.9400\n",
      "Epoch 101/150\n",
      " - 0s - loss: 0.2165 - acc: 0.9500\n",
      "Epoch 102/150\n",
      " - 0s - loss: 0.2151 - acc: 0.9500\n",
      "Epoch 103/150\n",
      " - 0s - loss: 0.2134 - acc: 0.9400\n",
      "Epoch 104/150\n",
      " - 0s - loss: 0.2072 - acc: 0.9400\n",
      "Epoch 105/150\n",
      " - 0s - loss: 0.2036 - acc: 0.9500\n",
      "Epoch 106/150\n",
      " - 0s - loss: 0.2007 - acc: 0.9500\n",
      "Epoch 107/150\n",
      " - 0s - loss: 0.1972 - acc: 0.9500\n",
      "Epoch 108/150\n",
      " - 0s - loss: 0.1944 - acc: 0.9400\n",
      "Epoch 109/150\n",
      " - 0s - loss: 0.1930 - acc: 0.9500\n",
      "Epoch 110/150\n",
      " - 0s - loss: 0.1895 - acc: 0.9500\n",
      "Epoch 111/150\n",
      " - 0s - loss: 0.1861 - acc: 0.9500\n",
      "Epoch 112/150\n",
      " - 0s - loss: 0.1840 - acc: 0.9400\n",
      "Epoch 113/150\n",
      " - 0s - loss: 0.1805 - acc: 0.9500\n",
      "Epoch 114/150\n",
      " - 0s - loss: 0.1785 - acc: 0.9600\n",
      "Epoch 115/150\n",
      " - 0s - loss: 0.1757 - acc: 0.9500\n",
      "Epoch 116/150\n",
      " - 0s - loss: 0.1746 - acc: 0.9400\n",
      "Epoch 117/150\n",
      " - 0s - loss: 0.1717 - acc: 0.9500\n",
      "Epoch 118/150\n",
      " - 0s - loss: 0.1692 - acc: 0.9500\n",
      "Epoch 119/150\n",
      " - 0s - loss: 0.1670 - acc: 0.9500\n",
      "Epoch 120/150\n",
      " - 0s - loss: 0.1648 - acc: 0.9500\n",
      "Epoch 121/150\n",
      " - 0s - loss: 0.1628 - acc: 0.9500\n",
      "Epoch 122/150\n",
      " - 0s - loss: 0.1615 - acc: 0.9500\n",
      "Epoch 123/150\n",
      " - 0s - loss: 0.1596 - acc: 0.9500\n",
      "Epoch 124/150\n",
      " - 0s - loss: 0.1567 - acc: 0.9600\n",
      "Epoch 125/150\n",
      " - 0s - loss: 0.1544 - acc: 0.9600\n",
      "Epoch 126/150\n",
      " - 0s - loss: 0.1527 - acc: 0.9600\n",
      "Epoch 127/150\n",
      " - 0s - loss: 0.1506 - acc: 0.9600\n",
      "Epoch 128/150\n",
      " - 0s - loss: 0.1492 - acc: 0.9600\n",
      "Epoch 129/150\n",
      " - 0s - loss: 0.1483 - acc: 0.9700\n",
      "Epoch 130/150\n",
      " - 0s - loss: 0.1463 - acc: 0.9600\n",
      "Epoch 131/150\n",
      " - 0s - loss: 0.1445 - acc: 0.9600\n",
      "Epoch 132/150\n",
      " - 0s - loss: 0.1422 - acc: 0.9600\n",
      "Epoch 133/150\n",
      " - 0s - loss: 0.1412 - acc: 0.9600\n",
      "Epoch 134/150\n",
      " - 0s - loss: 0.1402 - acc: 0.9600\n",
      "Epoch 135/150\n",
      " - 0s - loss: 0.1379 - acc: 0.9600\n",
      "Epoch 136/150\n",
      " - 0s - loss: 0.1368 - acc: 0.9700\n",
      "Epoch 137/150\n",
      " - 0s - loss: 0.1356 - acc: 0.9600\n",
      "Epoch 138/150\n",
      " - 0s - loss: 0.1337 - acc: 0.9600\n",
      "Epoch 139/150\n",
      " - 0s - loss: 0.1330 - acc: 0.9700\n",
      "Epoch 140/150\n",
      " - 0s - loss: 0.1307 - acc: 0.9700\n",
      "Epoch 141/150\n",
      " - 0s - loss: 0.1298 - acc: 0.9600\n",
      "Epoch 142/150\n",
      " - 0s - loss: 0.1287 - acc: 0.9600\n",
      "Epoch 143/150\n",
      " - 0s - loss: 0.1272 - acc: 0.9600\n",
      "Epoch 144/150\n",
      " - 0s - loss: 0.1271 - acc: 0.9600\n",
      "Epoch 145/150\n",
      " - 0s - loss: 0.1245 - acc: 0.9600\n",
      "Epoch 146/150\n",
      " - 0s - loss: 0.1232 - acc: 0.9600\n",
      "Epoch 147/150\n",
      " - 0s - loss: 0.1226 - acc: 0.9700\n",
      "Epoch 148/150\n",
      " - 0s - loss: 0.1221 - acc: 0.9700\n",
      "Epoch 149/150\n",
      " - 0s - loss: 0.1239 - acc: 0.9700\n",
      "Epoch 150/150\n",
      " - 0s - loss: 0.1199 - acc: 0.9600\n"
     ]
    },
    {
     "data": {
      "text/plain": [
       "<keras.callbacks.History at 0x7f7b297fc240>"
      ]
     },
     "execution_count": 16,
     "metadata": {},
     "output_type": "execute_result"
    }
   ],
   "source": [
    "model.fit(scaled_X_train, y_train, epochs=150, batch_size=10, verbose=2)"
   ]
  },
  {
   "cell_type": "code",
   "execution_count": 19,
   "metadata": {},
   "outputs": [
    {
     "data": {
      "text/plain": [
       "array([1, 0, 2, 1, 1, 0, 1, 2, 2, 1, 2, 0, 0, 0, 0, 1, 2, 1, 1, 2, 0, 2,\n",
       "       0, 2, 2, 2, 2, 2, 0, 0, 0, 0, 1, 0, 0, 2, 1, 0, 0, 0, 2, 1, 1, 0,\n",
       "       0, 1, 1, 2, 1, 2])"
      ]
     },
     "execution_count": 19,
     "metadata": {},
     "output_type": "execute_result"
    }
   ],
   "source": [
    "model.predict_classes(scaled_X_test)"
   ]
  },
  {
   "cell_type": "code",
   "execution_count": 20,
   "metadata": {},
   "outputs": [],
   "source": [
    "# remember we 1-hot-encoded the y_test"
   ]
  },
  {
   "cell_type": "code",
   "execution_count": 21,
   "metadata": {},
   "outputs": [
    {
     "data": {
      "text/plain": [
       "array([1, 0, 2, 1, 1, 0, 1, 2, 1, 1, 2, 0, 0, 0, 0, 1, 2, 1, 1, 2, 0, 2,\n",
       "       0, 2, 2, 2, 2, 2, 0, 0, 0, 0, 1, 0, 0, 2, 1, 0, 0, 0, 2, 1, 1, 0,\n",
       "       0, 1, 2, 2, 1, 2])"
      ]
     },
     "execution_count": 21,
     "metadata": {},
     "output_type": "execute_result"
    }
   ],
   "source": [
    "predictions = model.predict_classes(scaled_X_test)\n",
    "y_test.argmax(axis=1)"
   ]
  },
  {
   "cell_type": "code",
   "execution_count": 22,
   "metadata": {},
   "outputs": [],
   "source": [
    "from sklearn.metrics import classification_report, confusion_matrix, accuracy_score"
   ]
  },
  {
   "cell_type": "code",
   "execution_count": 23,
   "metadata": {},
   "outputs": [
    {
     "data": {
      "text/plain": [
       "array([[19,  0,  0],\n",
       "       [ 0, 14,  1],\n",
       "       [ 0,  1, 15]])"
      ]
     },
     "execution_count": 23,
     "metadata": {},
     "output_type": "execute_result"
    }
   ],
   "source": [
    "confusion_matrix(y_test.argmax(axis=1), predictions)"
   ]
  },
  {
   "cell_type": "code",
   "execution_count": 24,
   "metadata": {},
   "outputs": [
    {
     "name": "stdout",
     "output_type": "stream",
     "text": [
      "              precision    recall  f1-score   support\n",
      "\n",
      "           0       1.00      1.00      1.00        19\n",
      "           1       0.93      0.93      0.93        15\n",
      "           2       0.94      0.94      0.94        16\n",
      "\n",
      "    accuracy                           0.96        50\n",
      "   macro avg       0.96      0.96      0.96        50\n",
      "weighted avg       0.96      0.96      0.96        50\n",
      "\n"
     ]
    }
   ],
   "source": [
    "print(classification_report(y_test.argmax(axis=1), predictions))"
   ]
  },
  {
   "cell_type": "code",
   "execution_count": 25,
   "metadata": {},
   "outputs": [
    {
     "data": {
      "text/plain": [
       "0.96"
      ]
     },
     "execution_count": 25,
     "metadata": {},
     "output_type": "execute_result"
    }
   ],
   "source": [
    "accuracy_score(y_test.argmax(axis=1), predictions)"
   ]
  },
  {
   "cell_type": "markdown",
   "metadata": {},
   "source": [
    "# Saving and Loading your model"
   ]
  },
  {
   "cell_type": "code",
   "execution_count": 26,
   "metadata": {},
   "outputs": [],
   "source": [
    "model.save('my_first_model.h5')"
   ]
  },
  {
   "cell_type": "code",
   "execution_count": 27,
   "metadata": {},
   "outputs": [],
   "source": [
    "from keras.models import load_model\n",
    "my_model = load_model('my_first_model.h5')"
   ]
  },
  {
   "cell_type": "code",
   "execution_count": null,
   "metadata": {},
   "outputs": [],
   "source": []
  }
 ],
 "metadata": {
  "interpreter": {
   "hash": "38cca0c38332a56087b24af0bc80247f4fced29cb4f7f437d91dc159adec9c4e"
  },
  "kernelspec": {
   "display_name": "Python 3.9.7 ('base')",
   "language": "python",
   "name": "python3"
  },
  "language_info": {
   "codemirror_mode": {
    "name": "ipython",
    "version": 3
   },
   "file_extension": ".py",
   "mimetype": "text/x-python",
   "name": "python",
   "nbconvert_exporter": "python",
   "pygments_lexer": "ipython3",
   "version": "3.5.6"
  },
  "orig_nbformat": 4
 },
 "nbformat": 4,
 "nbformat_minor": 2
}
